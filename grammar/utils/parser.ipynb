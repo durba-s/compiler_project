{
 "cells": [
  {
   "cell_type": "code",
   "execution_count": 2,
   "metadata": {},
   "outputs": [],
   "source": [
    "import pandas as pd\n",
    "import numpy as np"
   ]
  },
  {
   "cell_type": "code",
   "execution_count": 8,
   "metadata": {},
   "outputs": [],
   "source": [
    "goto = pd.read_csv('goto.csv')\n",
    "grammar = pd.read_csv('rules.csv')\n",
    "lalr = pd.read_csv('lalr.csv')\n",
    "#for i in range(105):\n",
    " #   grammar.iloc[i,1] =  grammar.iloc[i,1].split()\n",
    "f = open(\"toks.txt\", \"r\")\n",
    "tok_list = f.read().split()"
   ]
  },
  {
   "cell_type": "code",
   "execution_count": null,
   "metadata": {},
   "outputs": [],
   "source": [
    "def parser(tok_list):\n",
    "    st = tok_list[i]"
   ]
  },
  {
   "cell_type": "code",
   "execution_count": 19,
   "metadata": {},
   "outputs": [],
   "source": [
    "for index,row in lalr.iloc[:,1:].iterrows():\n",
    "    st = \"\\\"\"+str(index)+\"\\\"\"+\":\"\n",
    "    print(st,row.dropna().to_dict(),\",\")"
   ]
  },
  {
   "cell_type": "code",
   "execution_count": 21,
   "metadata": {},
   "outputs": [],
   "source": [
    "for index,row in goto.iloc[:,1:].iterrows():\n",
    "    st = \"\\\"\"+str(index)+\"\\\"\"+\":\"\n",
    "    print(st,row.dropna().to_dict(),\",\")"
   ]
  },
  {
   "cell_type": "code",
   "execution_count": 28,
   "metadata": {},
   "outputs": [],
   "source": [
    "for i in range(len(grammar)):\n",
    "    grammar.iloc[i][1] = grammar.iloc[i][1].split()"
   ]
  },
  {
   "cell_type": "code",
   "execution_count": 30,
   "metadata": {},
   "outputs": [
    {
     "name": "stdout",
     "output_type": "stream",
     "text": [
      "\"0\": {'LHS': 'START ', 'RHS': ['PROGRAM']} ,\n",
      "\"1\": {'LHS': 'PROGRAM ', 'RHS': ['DECL', 'PROGRAM']} ,\n",
      "\"2\": {'LHS': 'PROGRAM ', 'RHS': ['FUNCTION', 'PROGRAM']} ,\n",
      "\"3\": {'LHS': 'PROGRAM ', 'RHS': [\"''\"]} ,\n",
      "\"4\": {'LHS': 'STMTS ', 'RHS': ['STMT', 'STMTS']} ,\n",
      "\"5\": {'LHS': 'STMTS ', 'RHS': ['STMT']} ,\n",
      "\"6\": {'LHS': 'CODE_BLOCK ', 'RHS': ['STMT']} ,\n",
      "\"7\": {'LHS': 'CODE_BLOCK ', 'RHS': ['SYM_P1', 'STMTS', 'SYM_P2']} ,\n",
      "\"8\": {'LHS': 'STMT ', 'RHS': ['DECL']} ,\n",
      "\"9\": {'LHS': 'STMT ', 'RHS': ['ASSIGNMENT']} ,\n",
      "\"10\": {'LHS': 'STMT ', 'RHS': ['CONDITIONAL']} ,\n",
      "\"11\": {'LHS': 'STMT ', 'RHS': ['FOR']} ,\n",
      "\"12\": {'LHS': 'STMT ', 'RHS': ['WHILE']} ,\n",
      "\"13\": {'LHS': 'STMT ', 'RHS': ['DOWHILE']} ,\n",
      "\"14\": {'LHS': 'STMT ', 'RHS': ['JUMP']} ,\n",
      "\"15\": {'LHS': 'STMT ', 'RHS': ['SELECT']} ,\n",
      "\"16\": {'LHS': 'STMT ', 'RHS': ['EXPR', 'SYM_SEMICOLON']} ,\n",
      "\"17\": {'LHS': 'DECL ', 'RHS': ['TYPE', 'IDENTIFIER', 'SYM_SEMICOLON']} ,\n",
      "\"18\": {'LHS': 'ASSIGNMENT ', 'RHS': ['IDENTIFIER', 'OP_ASSGN', 'EXPR', 'SYM_SEMICOLON']} ,\n",
      "\"19\": {'LHS': 'ASSIGNMENT ', 'RHS': ['IDENTIFIER', 'SYM_SB1', 'DIM', 'SYM_SB2', 'OP_ASSGN', 'EXPR', 'SYM_SEMICOLON']} ,\n",
      "\"20\": {'LHS': 'ASSIGNMENT ', 'RHS': ['IDENTIFIER', 'SHORT_OP', 'EXPR', 'SYM_SEMICOLON']} ,\n",
      "\"21\": {'LHS': 'ASSIGNMENT ', 'RHS': ['IDENTIFIER', 'SYM_SB1', 'DIM', 'SYM_SB2', 'SHORT_OP', 'EXPR', 'SYM_SEMICOLON']} ,\n",
      "\"22\": {'LHS': 'CONDITIONAL ', 'RHS': ['KEYWD_IF', 'SYM_B1', 'EXPR', 'SYM_B2', 'CODE_BLOCK', 'KEYWD_ELSE', 'CODE_BLOCK']} ,\n",
      "\"23\": {'LHS': 'FOR ', 'RHS': ['KEYWD_FOR', 'IDENTIFIER', 'KEYWD_IN', 'SYM_B1', 'EXPR', 'OP_COMMA', 'EXPR', 'SYM_B2', 'CODE_BLOCK']} ,\n",
      "\"24\": {'LHS': 'WHILE ', 'RHS': ['KEYWD_WHILE', 'SYM_B1', 'EXPR', 'SYM_B2', 'CODE_BLOCK']} ,\n",
      "\"25\": {'LHS': 'DOWHILE ', 'RHS': ['KEYWD_DO', 'CODE_BLOCK', 'KEYWD_WHILE', 'SYM_B1', 'EXPR', 'SYM_B2', 'SYM_SEMICOLON']} ,\n",
      "\"26\": {'LHS': 'JUMP ', 'RHS': ['KEYWD_RETURN', 'EXPR', 'SYM_SEMICOLON']} ,\n",
      "\"27\": {'LHS': 'JUMP ', 'RHS': ['KEYWD_BREAK', 'SYM_SEMICOLON']} ,\n",
      "\"28\": {'LHS': 'JUMP ', 'RHS': ['KEYWD_CONTINUE', 'SYM_SEMICOLON']} ,\n",
      "\"29\": {'LHS': 'SELECT ', 'RHS': ['KEYWD_SELECT', 'SYM_B1', 'EXPR', 'SYM_B2', 'SYM_P1', 'CASE_LIST', 'SYM_P2']} ,\n",
      "\"30\": {'LHS': 'CASE_LIST ', 'RHS': ['KEYWD_CASE', 'EXPR', 'OP_TERN1', 'STMTS', 'CASE_LIST']} ,\n",
      "\"31\": {'LHS': 'CASE_LIST ', 'RHS': ['KEYWD_DEFAULT', 'OP_TERN1', 'STMTS']} ,\n",
      "\"32\": {'LHS': 'CASE_LIST ', 'RHS': [\"''\"]} ,\n",
      "\"33\": {'LHS': 'FUNCTION ', 'RHS': ['KEYWD_DEF', 'IDENTIFIER', 'SYM_B1', 'ARG_LIST', 'SYM_B2', 'OP_FUNC', 'TYPE', 'SYM_P1', 'STMTS', 'SYM_P2']} ,\n",
      "\"34\": {'LHS': 'ARG_LIST ', 'RHS': ['TYPE', 'IDENTIFIER', 'OP_COMMA', 'ARG_LIST']} ,\n",
      "\"35\": {'LHS': 'ARG_LIST ', 'RHS': ['TYPE', 'IDENTIFIER']} ,\n",
      "\"36\": {'LHS': 'ARG_LIST ', 'RHS': [\"''\"]} ,\n",
      "\"37\": {'LHS': 'FUNCTION_CALL ', 'RHS': ['IDENTIFIER', 'SYM_B1', 'PARAM_LIST', 'SYM_B2']} ,\n",
      "\"38\": {'LHS': 'PARAM_LIST ', 'RHS': ['PARAMS']} ,\n",
      "\"39\": {'LHS': 'PARAM_LIST ', 'RHS': [\"''\"]} ,\n",
      "\"40\": {'LHS': 'PARAMS ', 'RHS': ['EXPR']} ,\n",
      "\"41\": {'LHS': 'PARAMS ', 'RHS': ['EXPR', 'OP_COMMA', 'EXPR']} ,\n",
      "\"42\": {'LHS': 'TYPE ', 'RHS': ['D_TYPE']} ,\n",
      "\"43\": {'LHS': 'TYPE ', 'RHS': ['D_TYPE', 'SYM_SB1', 'DIM', 'SYM_SB2']} ,\n",
      "\"44\": {'LHS': 'DIM ', 'RHS': ['EXPR', 'OP_COMMA', 'DIM']} ,\n",
      "\"45\": {'LHS': 'DIM ', 'RHS': ['EXPR']} ,\n",
      "\"46\": {'LHS': 'DIM ', 'RHS': [\"''\"]} ,\n",
      "\"47\": {'LHS': 'D_TYPE ', 'RHS': ['KEYWD_INT']} ,\n",
      "\"48\": {'LHS': 'D_TYPE ', 'RHS': ['KEYWD_FLOAT']} ,\n",
      "\"49\": {'LHS': 'D_TYPE ', 'RHS': ['KEYWD_CHAR']} ,\n",
      "\"50\": {'LHS': 'D_TYPE ', 'RHS': ['KEYWD_BOOL']} ,\n",
      "\"51\": {'LHS': 'D_TYPE ', 'RHS': ['KEYWD_VOID']} ,\n",
      "\"52\": {'LHS': 'D_TYPE ', 'RHS': ['KEYWD_STRING']} ,\n",
      "\"53\": {'LHS': 'EXPR ', 'RHS': ['SYM_B1', 'EXPR', 'BIN_OP', 'EXPR', 'SYM_B2']} ,\n",
      "\"54\": {'LHS': 'EXPR ', 'RHS': ['PREFIX', 'EXPR']} ,\n",
      "\"55\": {'LHS': 'EXPR ', 'RHS': ['FUNCTION_CALL']} ,\n",
      "\"56\": {'LHS': 'EXPR ', 'RHS': ['IDENTIFIER']} ,\n",
      "\"57\": {'LHS': 'EXPR ', 'RHS': ['LITERAL']} ,\n",
      "\"58\": {'LHS': 'EXPR ', 'RHS': ['SYM_P1', 'LIST', 'SYM_P2']} ,\n",
      "\"59\": {'LHS': 'LIST ', 'RHS': ['EXPR', 'OP_COMMA', 'LIST']} ,\n",
      "\"60\": {'LHS': 'LIST ', 'RHS': ['EXPR']} ,\n",
      "\"61\": {'LHS': 'LITERAL ', 'RHS': ['INT_LIT']} ,\n",
      "\"62\": {'LHS': 'LITERAL ', 'RHS': ['FLOAT_LITERAL']} ,\n",
      "\"63\": {'LHS': 'LITERAL ', 'RHS': ['CHAR_LIT']} ,\n",
      "\"64\": {'LHS': 'LITERAL ', 'RHS': ['BOOL_LIT']} ,\n",
      "\"65\": {'LHS': 'LITERAL ', 'RHS': ['STR_LIT']} ,\n",
      "\"66\": {'LHS': 'BOOL_LIT ', 'RHS': ['KEYWD_TRUE']} ,\n",
      "\"67\": {'LHS': 'BOOL_LIT ', 'RHS': ['KEYWD_FALSE']} ,\n",
      "\"68\": {'LHS': 'BIN_OP ', 'RHS': ['ARTM_OP']} ,\n",
      "\"69\": {'LHS': 'BIN_OP ', 'RHS': ['REL_OP']} ,\n",
      "\"70\": {'LHS': 'BIN_OP ', 'RHS': ['LOGCL_OP']} ,\n",
      "\"71\": {'LHS': 'BIN_OP ', 'RHS': ['BIT_OP']} ,\n",
      "\"72\": {'LHS': 'ARTM_OP ', 'RHS': ['OP_AR_add']} ,\n",
      "\"73\": {'LHS': 'ARTM_OP ', 'RHS': ['OP_AR_sub']} ,\n",
      "\"74\": {'LHS': 'ARTM_OP ', 'RHS': ['OP_AR_mul']} ,\n",
      "\"75\": {'LHS': 'ARTM_OP ', 'RHS': ['OP_AR_div']} ,\n",
      "\"76\": {'LHS': 'ARTM_OP ', 'RHS': ['OP_AR_mod']} ,\n",
      "\"77\": {'LHS': 'REL_OP ', 'RHS': ['OP_REL_gt']} ,\n",
      "\"78\": {'LHS': 'REL_OP ', 'RHS': ['OP_REL_ge']} ,\n",
      "\"79\": {'LHS': 'REL_OP ', 'RHS': ['OP_REL_lt']} ,\n",
      "\"80\": {'LHS': 'REL_OP ', 'RHS': ['OP_REL_le']} ,\n",
      "\"81\": {'LHS': 'REL_OP ', 'RHS': ['OP_REL_eq']} ,\n",
      "\"82\": {'LHS': 'REL_OP ', 'RHS': ['OP_REL_neq']} ,\n",
      "\"83\": {'LHS': 'LOGCL_OP ', 'RHS': ['OP_LOG_and']} ,\n",
      "\"84\": {'LHS': 'LOGCL_OP ', 'RHS': ['OP_LOG_or']} ,\n",
      "\"85\": {'LHS': 'LOGCL_OP ', 'RHS': ['OP_LOG_not']} ,\n",
      "\"86\": {'LHS': 'BIT_OP ', 'RHS': ['OP_BIT_and']} ,\n",
      "\"87\": {'LHS': 'BIT_OP ', 'RHS': ['OP_BIT_or']} ,\n",
      "\"88\": {'LHS': 'BIT_OP ', 'RHS': ['OP_BIT_ls']} ,\n",
      "\"89\": {'LHS': 'BIT_OP ', 'RHS': ['OP_BIT_rs']} ,\n",
      "\"90\": {'LHS': 'BIT_OP ', 'RHS': ['OP_BIT_xor']} ,\n",
      "\"91\": {'LHS': 'SHORT_OP ', 'RHS': ['OP_ASSGN1']} ,\n",
      "\"92\": {'LHS': 'SHORT_OP ', 'RHS': ['OP_ASSGN2']} ,\n",
      "\"93\": {'LHS': 'SHORT_OP ', 'RHS': ['OP_ASSGN3']} ,\n",
      "\"94\": {'LHS': 'SHORT_OP ', 'RHS': ['OP_ASSGN4']} ,\n",
      "\"95\": {'LHS': 'SHORT_OP ', 'RHS': ['OP_ASSGN5']} ,\n",
      "\"96\": {'LHS': 'SHORT_OP ', 'RHS': ['OP_ASSGN6']} ,\n",
      "\"97\": {'LHS': 'SHORT_OP ', 'RHS': ['OP_ASSGN7']} ,\n",
      "\"98\": {'LHS': 'SHORT_OP ', 'RHS': ['OP_ASSGN8']} ,\n",
      "\"99\": {'LHS': 'PREFIX ', 'RHS': ['OP_INCR']} ,\n",
      "\"100\": {'LHS': 'PREFIX ', 'RHS': ['OP_DECR']} ,\n",
      "\"101\": {'LHS': 'PREFIX ', 'RHS': ['OP_BIT4']} ,\n",
      "\"102\": {'LHS': 'PREFIX ', 'RHS': ['OP_AR_add']} ,\n",
      "\"103\": {'LHS': 'PREFIX', 'RHS': ['OP_AR_sub']} ,\n"
     ]
    }
   ],
   "source": [
    "for index,row in grammar.iterrows():\n",
    "    st = \"\\\"\"+str(index)+\"\\\"\"+\":\"\n",
    "    print(st,row.dropna().to_dict(),\",\")"
   ]
  }
 ],
 "metadata": {
  "interpreter": {
   "hash": "51ef561b610c49e6fe5c6bd0a94f8e4c5d3181152ca2961f5ffc3ef21025313e"
  },
  "kernelspec": {
   "display_name": "Python 3.8.10 ('tf_m1')",
   "language": "python",
   "name": "python3"
  },
  "language_info": {
   "codemirror_mode": {
    "name": "ipython",
    "version": 3
   },
   "file_extension": ".py",
   "mimetype": "text/x-python",
   "name": "python",
   "nbconvert_exporter": "python",
   "pygments_lexer": "ipython3",
   "version": "3.8.10"
  },
  "orig_nbformat": 4
 },
 "nbformat": 4,
 "nbformat_minor": 2
}
