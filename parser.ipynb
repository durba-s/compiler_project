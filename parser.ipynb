{
 "cells": [
  {
   "cell_type": "code",
   "execution_count": 1,
   "metadata": {},
   "outputs": [],
   "source": [
    "import pandas as pd\n",
    "import numpy as np"
   ]
  },
  {
   "cell_type": "code",
   "execution_count": 53,
   "metadata": {},
   "outputs": [],
   "source": [
    "goto = pd.read_csv('goto.csv')\n",
    "grammar = pd.read_csv('rules.csv')\n",
    "lalr = pd.read_csv('lalr.csv')\n",
    "for i in range(106):\n",
    "    grammar.iloc[i,1] =  grammar.iloc[i,1].split()\n",
    "f = open(\"toks.txt\", \"r\")\n",
    "tok_list = f.read().split()"
   ]
  },
  {
   "cell_type": "code",
   "execution_count": null,
   "metadata": {},
   "outputs": [],
   "source": [
    "def parser(tok_list):\n",
    "    st = tok_list[i]"
   ]
  }
 ],
 "metadata": {
  "interpreter": {
   "hash": "51ef561b610c49e6fe5c6bd0a94f8e4c5d3181152ca2961f5ffc3ef21025313e"
  },
  "kernelspec": {
   "display_name": "Python 3.8.10 ('tf_m1')",
   "language": "python",
   "name": "python3"
  },
  "language_info": {
   "codemirror_mode": {
    "name": "ipython",
    "version": 3
   },
   "file_extension": ".py",
   "mimetype": "text/x-python",
   "name": "python",
   "nbconvert_exporter": "python",
   "pygments_lexer": "ipython3",
   "version": "3.8.10"
  },
  "orig_nbformat": 4
 },
 "nbformat": 4,
 "nbformat_minor": 2
}
